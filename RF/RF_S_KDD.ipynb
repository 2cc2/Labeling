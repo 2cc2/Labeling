{
 "cells": [
  {
   "cell_type": "code",
   "execution_count": 3,
   "metadata": {},
   "outputs": [
    {
     "name": "stdout",
     "output_type": "stream",
     "text": [
      "Labelled Data Shape: (4940, 42)\n",
      "X_train Shape: (2470, 41)\n",
      "y_train Shape: (2470,)\n",
      "X_test Shape: (2470, 41)\n",
      "y_test Shape: (2470,)\n"
     ]
    }
   ],
   "source": [
    "import pandas as pd\n",
    "from sklearn.preprocessing import LabelEncoder, StandardScaler\n",
    "from sklearn.model_selection import train_test_split\n",
    "import matplotlib.pyplot as plt\n",
    "import seaborn as sns\n",
    "import warnings \n",
    "\n",
    "# 忽略特定的 UserWarning 警告\n",
    "warnings.filterwarnings(\"ignore\", message=\"Glyph .* missing from current font.\")\n",
    "\n",
    "# 替换为实际数据集路径\n",
    "labelled_data_path = 'kddcup_1_percent'\n",
    "\n",
    "# 读取有标签的数据集\n",
    "df_labelled = pd.read_csv(labelled_data_path, header=None)\n",
    "\n",
    "# 定义列名\n",
    "columns = [\"duration\", \"protocol_type\", \"service\", \"flag\", \"src_bytes\", \"dst_bytes\", \n",
    "           \"land\", \"wrong_fragment\", \"urgent\", \"hot\", \"num_failed_logins\", \n",
    "           \"logged_in\", \"num_compromised\", \"root_shell\", \"su_attempted\", \n",
    "           \"num_root\", \"num_file_creations\", \"num_shells\", \"num_access_files\", \n",
    "           \"num_outbound_cmds\", \"is_host_login\", \"is_guest_login\", \"count\", \n",
    "           \"srv_count\", \"serror_rate\", \"srv_serror_rate\", \"rerror_rate\", \n",
    "           \"srv_rerror_rate\", \"same_srv_rate\", \"diff_srv_rate\", \"srv_diff_host_rate\", \n",
    "           \"dst_host_count\", \"dst_host_srv_count\", \"dst_host_same_srv_rate\", \n",
    "           \"dst_host_diff_srv_rate\", \"dst_host_same_src_port_rate\", \n",
    "           \"dst_host_srv_diff_host_rate\", \"dst_host_serror_rate\", \n",
    "           \"dst_host_srv_serror_rate\", \"dst_host_rerror_rate\", \n",
    "           \"dst_host_srv_rerror_rate\", \"label\"]\n",
    "\n",
    "df_labelled.columns = columns\n",
    "\n",
    "# 获取分类特征的所有种类\n",
    "categorical_columns = [\"protocol_type\", \"service\", \"flag\"]\n",
    "\n",
    "# 为所有分类特征创建一个LabelEncoder对象\n",
    "le_dict = {col: LabelEncoder() for col in categorical_columns}\n",
    "\n",
    "# Fit LabelEncoder对象于有标签数据集中\n",
    "for col in categorical_columns:\n",
    "    le = le_dict[col]\n",
    "    le.fit(df_labelled[col])\n",
    "\n",
    "# 对有标签数据集进行编码\n",
    "for col in categorical_columns:\n",
    "    le = le_dict[col]\n",
    "    df_labelled[col] = le.transform(df_labelled[col])\n",
    "\n",
    "# 将标签编码\n",
    "df_labelled['label'] = df_labelled['label'].apply(lambda x: 1 if x != 'normal.' else 0)\n",
    "\n",
    "# 特征标准化\n",
    "scaler = StandardScaler()\n",
    "df_labelled[df_labelled.columns[:-1]] = scaler.fit_transform(df_labelled[df_labelled.columns[:-1]])\n",
    "\n",
    "# 划分有标签数据集的训练集和测试集\n",
    "X = df_labelled.drop(columns=['label'])\n",
    "y = df_labelled['label']\n",
    "\n",
    "X_train, X_test, y_train, y_test = train_test_split(X, y, test_size=0.2, random_state=42)\n",
    "\n",
    "# 显示数据集状态\n",
    "print(f\"Labelled Data Shape: {df_labelled.shape}\")\n",
    "\n",
    "# 显示分割后数据集的形状\n",
    "print(f\"X_train Shape: {X_train.shape}\")\n",
    "print(f\"y_train Shape: {y_train.shape}\")\n",
    "print(f\"X_test Shape: {X_test.shape}\")\n",
    "print(f\"y_test Shape: {y_test.shape}\")"
   ]
  },
  {
   "cell_type": "code",
   "execution_count": 4,
   "metadata": {},
   "outputs": [
    {
     "name": "stdout",
     "output_type": "stream",
     "text": [
      "Accuracy: 0.9975708502024292\n",
      "Classification Report:\n",
      "              precision    recall  f1-score   support\n",
      "\n",
      "           0       0.99      1.00      0.99       482\n",
      "           1       1.00      1.00      1.00      1988\n",
      "\n",
      "    accuracy                           1.00      2470\n",
      "   macro avg       0.99      1.00      1.00      2470\n",
      "weighted avg       1.00      1.00      1.00      2470\n",
      "\n"
     ]
    }
   ],
   "source": [
    "# 步骤1: 导入必要的库\n",
    "import numpy as np\n",
    "import pandas as pd\n",
    "from sklearn.metrics import accuracy_score, classification_report\n",
    "from sklearn.model_selection import train_test_split\n",
    "from sklearn.ensemble import RandomForestClassifier\n",
    "import warnings\n",
    "\n",
    "warnings.filterwarnings(\"ignore\")\n",
    "\n",
    "# 假设X_train, y_train, X_test, y_test已经被定义\n",
    "\n",
    "# 步骤2: 初始模型训练\n",
    "clf = RandomForestClassifier(random_state=42)\n",
    "clf.fit(X_train, y_train)\n",
    "\n",
    "# 步骤3: 模型评估\n",
    "y_pred = clf.predict(X_test)\n",
    "print(\"Accuracy:\", accuracy_score(y_test, y_pred))\n",
    "print(\"Classification Report:\")\n",
    "print(classification_report(y_test, y_pred))"
   ]
  }
 ],
 "metadata": {
  "kernelspec": {
   "display_name": "Python 3",
   "language": "python",
   "name": "python3"
  },
  "language_info": {
   "codemirror_mode": {
    "name": "ipython",
    "version": 3
   },
   "file_extension": ".py",
   "mimetype": "text/x-python",
   "name": "python",
   "nbconvert_exporter": "python",
   "pygments_lexer": "ipython3",
   "version": "3.10.12"
  }
 },
 "nbformat": 4,
 "nbformat_minor": 2
}
