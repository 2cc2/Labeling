{
 "cells": [
  {
   "cell_type": "code",
   "execution_count": 6,
   "metadata": {},
   "outputs": [],
   "source": [
    "import pandas as pd\n",
    "import numpy as np\n",
    "from sklearn.preprocessing import StandardScaler, LabelEncoder\n",
    "from sklearn.model_selection import train_test_split\n",
    "from sklearn.svm import SVC\n",
    "from sklearn.metrics import classification_report, accuracy_score\n"
   ]
  },
  {
   "cell_type": "code",
   "execution_count": 7,
   "metadata": {},
   "outputs": [],
   "source": [
    "# 替换为实际数据集路径\n",
    "labelled_data_path = 'kddcup_0.01_percent'\n",
    "unlabelled_data_path = 'kddcup.testdata.unlabeled_10'\n",
    "\n",
    "# 读取有标签的数据集\n",
    "df_labelled = pd.read_csv(labelled_data_path, header=None)\n",
    "\n",
    "# 读取无标签的数据集\n",
    "df_unlabelled = pd.read_csv(unlabelled_data_path, header=None)\n",
    "\n",
    "# 定义列名\n",
    "columns = [\"duration\", \"protocol_type\", \"service\", \"flag\", \"src_bytes\", \"dst_bytes\", \n",
    "           \"land\", \"wrong_fragment\", \"urgent\", \"hot\", \"num_failed_logins\", \n",
    "           \"logged_in\", \"num_compromised\", \"root_shell\", \"su_attempted\", \n",
    "           \"num_root\", \"num_file_creations\", \"num_shells\", \"num_access_files\", \n",
    "           \"num_outbound_cmds\", \"is_host_login\", \"is_guest_login\", \"count\", \n",
    "           \"srv_count\", \"serror_rate\", \"srv_serror_rate\", \"rerror_rate\", \n",
    "           \"srv_rerror_rate\", \"same_srv_rate\", \"diff_srv_rate\", \"srv_diff_host_rate\", \n",
    "           \"dst_host_count\", \"dst_host_srv_count\", \"dst_host_same_srv_rate\", \n",
    "           \"dst_host_diff_srv_rate\", \"dst_host_same_src_port_rate\", \n",
    "           \"dst_host_srv_diff_host_rate\", \"dst_host_serror_rate\", \n",
    "           \"dst_host_srv_serror_rate\", \"dst_host_rerror_rate\", \n",
    "           \"dst_host_srv_rerror_rate\", \"label\"]\n",
    "\n",
    "df_labelled.columns = columns\n",
    "df_unlabelled.columns = columns[:-1]  # 无标签数据集没有label列\n"
   ]
  },
  {
   "cell_type": "code",
   "execution_count": 8,
   "metadata": {},
   "outputs": [],
   "source": [
    "# 获取分类特征的所有种类\n",
    "categorical_columns = [\"protocol_type\", \"service\", \"flag\"]\n",
    "\n",
    "# 为所有分类特征创建一个LabelEncoder对象\n",
    "le_dict = {col: LabelEncoder() for col in categorical_columns}\n",
    "\n",
    "# Fit LabelEncoder对象于有标签和无标签数据集中\n",
    "for col in categorical_columns:\n",
    "    le = le_dict[col]\n",
    "    le.fit(pd.concat([df_labelled[col], df_unlabelled[col]]))\n",
    "\n",
    "# 对有标签数据集进行编码\n",
    "for col in categorical_columns:\n",
    "    le = le_dict[col]\n",
    "    df_labelled[col] = le.transform(df_labelled[col])\n",
    "\n",
    "# 对无标签数据集进行编码\n",
    "for col in categorical_columns:\n",
    "    le = le_dict[col]\n",
    "    df_unlabelled[col] = le.transform(df_unlabelled[col])\n",
    "\n",
    "# 将标签编码\n",
    "df_labelled['label'] = df_labelled['label'].apply(lambda x: 1 if x != 'normal.' else 0)\n"
   ]
  },
  {
   "cell_type": "code",
   "execution_count": 9,
   "metadata": {},
   "outputs": [],
   "source": [
    "# 特征标准化\n",
    "scaler = StandardScaler()\n",
    "df_labelled[df_labelled.columns[:-1]] = scaler.fit_transform(df_labelled[df_labelled.columns[:-1]])\n",
    "df_unlabelled[df_unlabelled.columns] = scaler.transform(df_unlabelled[df_unlabelled.columns])\n",
    "\n",
    "# 划分有标签数据集的训练集和测试集\n",
    "X = df_labelled.drop(columns=['label'])\n",
    "y = df_labelled['label']\n",
    "\n",
    "X_train, X_test, y_train, y_test = train_test_split(X, y, test_size=0.3, random_state=42)\n",
    "\n",
    "# 使用训练集中所有的有标签数据\n",
    "X_train_labelled = X_train\n",
    "y_train_labelled = y_train\n",
    "\n",
    "# 无标签数据\n",
    "X_train_unlabelled = df_unlabelled\n"
   ]
  },
  {
   "cell_type": "code",
   "execution_count": 10,
   "metadata": {},
   "outputs": [
    {
     "name": "stdout",
     "output_type": "stream",
     "text": [
      "Accuracy: 0.9333333333333333\n",
      "Classification Report:\n",
      "              precision    recall  f1-score   support\n",
      "\n",
      "           0       0.75      1.00      0.86         3\n",
      "           1       1.00      0.92      0.96        12\n",
      "\n",
      "    accuracy                           0.93        15\n",
      "   macro avg       0.88      0.96      0.91        15\n",
      "weighted avg       0.95      0.93      0.94        15\n",
      "\n"
     ]
    }
   ],
   "source": [
    "from sklearn.svm import SVC\n",
    "from sklearn.metrics import accuracy_score, classification_report\n",
    "import pandas as pd\n",
    "\n",
    "# 初始模型训练\n",
    "clf = SVC(probability=True, random_state=42)\n",
    "clf.fit(X_train_labelled, y_train_labelled)\n",
    "\n",
    "# 模型评估\n",
    "y_pred = clf.predict(X_test)\n",
    "print(\"Accuracy:\", accuracy_score(y_test, y_pred))\n",
    "print(\"Classification Report:\")\n",
    "print(classification_report(y_test, y_pred))\n"
   ]
  }
 ],
 "metadata": {
  "kernelspec": {
   "display_name": "actl",
   "language": "python",
   "name": "python3"
  },
  "language_info": {
   "codemirror_mode": {
    "name": "ipython",
    "version": 3
   },
   "file_extension": ".py",
   "mimetype": "text/x-python",
   "name": "python",
   "nbconvert_exporter": "python",
   "pygments_lexer": "ipython3",
   "version": "3.12.3"
  }
 },
 "nbformat": 4,
 "nbformat_minor": 2
}
